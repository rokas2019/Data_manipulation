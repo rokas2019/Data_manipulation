{
 "cells": [
  {
   "cell_type": "markdown",
   "id": "1f425681-fd4d-46e5-ac28-48b106331f34",
   "metadata": {},
   "source": [
    "## About this Part\n\nCongrats!\nYou have reached the last Part of this Sprint.\nIn this Part, you will put what you learned during this and the previous Sprints into practice.\nAs the final assignment of this Sprint, you will build a Python library for doing data transformations.\n\nP.S. we don't expect this project to be perfect - you will continue to improve your skills and there will be many projects for you to apply your newly gained skills in the future.\nFor now, just use what you have learned and try your best!\n\n*Note:* [advice on building your portfolio](https://turingcollege.atlassian.net/wiki/spaces/DLG/pages/1002307695/Portfolio+Items)\n\n## Context\n\nYou are working as a data engineer in a large software company.\nYou are building a POC of a Python library that should help the data scientists in your company to do data transformations.\n\n### Functions\n\nFor the initial sprint, you have committed to building three functions that are common for transforming data used in machine learning models.\n\n#### Transpose\n\nTranspose switches the axes of a tensor.\nIt is an extremely common operation in data science workflows.\nIf you haven't encountered transpose before, Numpy has a great explanation: [numpy.transpose](https://numpy.org/doc/stable/reference/generated/numpy.transpose.html).\nYour task is to build a transpose function that works on matrices (2d tensors) and has this signature: `transpose2d(input_matrix: list[list[float]]) -> list`, where `input_matrix` is a list of lists of real numbers.\n\nImplement this function using only Python and its standard library.\n\n#### Time Series Windowing\n\nTime series windows are important for a lot of time series analysis and modeling tasks.\nYou can read about them [here](https://www.mathworks.com/help/econ/rolling-window-estimation-of-state-space-models.html).\nYour task is to build a function that has this signature: `window1d(input_array: list | np.ndarray, size: int, shift: int = 1, stride: int = 1) -> list[list | np.ndarray]`, where `input_array` is a list or 1D Numpy array of real numbers, `size` is a positive integer that determines the size (length) of the window, `shfit` is a positive integer that determines the shift (step size) between different windows, and `stride` is a positive integer that determines the stride (step size) within each window. Your function should return a list of lists or 1D Numpy arrays of real numbers.\nIf you need help understanding the parameters of this function, [tf.data.Dataset.window](https://www.tensorflow.org/api_docs/python/tf/data/Dataset#window) might help.\n\nImplement this function using only Python, its standard library, and Numpy.\n\n#### Cross-Correlation\n\nConvolutional neural networks are very popular in deep learning.\nSurprisingly, they rely on the cross-correlation function and not the convolution function.\nOne of the reasons for that is that these functions are similar enough that most texts call them convolutions.\nYou can read about the cross-correlation and convolution functions [here](https://d2l.ai/chapter_convolutional-neural-networks/conv-layer.html) and [here](https://www.deeplearningbook.org/contents/convnets.html).\nYour task is to build a function that has this signature: `convolution2d(input_matrix: np.ndarray, kernel: np.ndarray, stride : int = 1) -> np.ndarray`, where `input_matrix` is a 2D Numpy array of real numbers, `kernel` is a 2D Numpy array of real numbers, and stride is an integer that is greater than 0. Your function should return a 2D Numpy array of real numbers.\nIf you need help understanding the parameters of this function, [torch.nn.functional.conv2d](https://pytorch.org/docs/stable/generated/torch.nn.functional.conv2d.html#torch.nn.functional.conv2d) might help.\n\nImplement this function using only Python, its standard library, and Numpy.\n\n### Library\n\nThe second part of the job is to publish these three functions as a package in [PyPI](https://pypi.org/).\nReal Python has a [great article](https://realpython.com/pypi-publish-python-package/) about publishing your own packages.\nBecause your entire team is using Poetry for dependency management, for this task you will also have to it.\n\n## Objectives for this Part\n\n- Practice using Python and Numpy.\n- Practice building Python libraries.\n- Practice using Poetry.\n- Practice publishing your packages to PyPI.\n\n## Requirements\n\n- Implement the three data transformation functions described in the Context section.\n- Build a Python library containing the three functions.\n- Publish the library to PyPI.\n- Provide suggestions about how your analysis can be improved.\n\n## Evaluation Criteria\n\n- Adherence to the requirements. How well did you meet the requirements?\n- Code quality. Was your code well-structured? Did you use the appropriate levels of abstraction? Did you remove commented-out and unused code? Did you adhere to the PEP8?\n- Code performance. Did you use suitable algorithms and data structures to solve the problems?\n- Presentation quality. Coherence of the presentation of the project, and how well everything is explained.\n- General understanding of the topic.\n\n## Project Review\n\nDuring your project review, you should present it as if talking to a data scientist building the machine learning model in your team.  \nYou can assume that they will have strong data science and decent software engineering skills - they will understand technical jargon but are not expected to notice things that could have been done better or ask about the choices you've made.\nThey are well familiar with the problem, so don't spend your time explaining trivial concepts or code snippets that are simple - your best bet is to focus your presentation on technological and design choices as well as the end-user functionality of your solution.\n\nDuring a project review, you may get asked questions that test your understanding of covered topics.\n\n- What is REST? How is it related to web services?\n- What is the difference between structured, semi-structured, and unstructured data? Which file formats are typically used for each type of data?\n- What is goose typing in Python? How does it differ from duck typing and static duck typing?\n\nIMPORTANT: during the project review, you will also be asked to solve an exercise using Python.\n"
   ]
  },
  {
   "cell_type": "markdown",
   "id": "d6d0196e-2fcd-4ee7-b093-6134351c3145",
   "metadata": {},
   "source": [
    "## General Project Review Guidelines\n\nFor an in-depth explanation about how project reviews work at Turing College, please read [this doc](https://turingcollege.atlassian.net/wiki/spaces/DLG/pages/537395951/Peer+expert+reviews+corrections).\n"
   ]
  }
 ],
 "metadata": {
  "kernelspec": {
   "display_name": "Python 3",
   "language": "python",
   "name": "python3"
  },
  "language_info": {
   "codemirror_mode": {
    "name": "ipython",
    "version": 3
   },
   "file_extension": ".py",
   "mimetype": "text/x-python",
   "name": "python",
   "nbconvert_exporter": "python",
   "pygments_lexer": "ipython3",
   "version": "3.9.5"
  }
 },
 "nbformat": 4,
 "nbformat_minor": 5
}
